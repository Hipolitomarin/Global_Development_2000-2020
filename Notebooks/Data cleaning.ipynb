{
 "cells": [
  {
   "cell_type": "code",
   "execution_count": 1,
   "id": "bf19cdf3-adc4-496f-9b75-2794428c6da8",
   "metadata": {},
   "outputs": [],
   "source": [
    "import pandas as pd\n",
    "import numpy as np\n",
    "import pandas as pd\n",
    "import matplotlib.pyplot as plt\n",
    "import seaborn as sns\n",
    "import matplotlib\n",
    "import matplotlib.pyplot as plt\n",
    "from scipy.stats import linregress\n",
    "from scipy.stats import poisson\n",
    "import matplotlib.pyplot as plt\n",
    "from pandas import DataFrame\n",
    "from scipy import stats\n",
    "import scipy\n",
    "from scipy import stats\n",
    "\n"
   ]
  },
  {
   "cell_type": "code",
   "execution_count": 2,
   "id": "5b5dfcc7-7460-485d-ab8f-d71ac63e2b89",
   "metadata": {},
   "outputs": [],
   "source": [
    "df = pd.read_csv(\"Global_Development_Indicators_2000_2020.csv\")"
   ]
  },
  {
   "cell_type": "code",
   "execution_count": 3,
   "id": "0a9e1a56-ac38-4183-acd3-de1055d80bca",
   "metadata": {
    "scrolled": true
   },
   "outputs": [
    {
     "data": {
      "text/html": [
       "<div>\n",
       "<style scoped>\n",
       "    .dataframe tbody tr th:only-of-type {\n",
       "        vertical-align: middle;\n",
       "    }\n",
       "\n",
       "    .dataframe tbody tr th {\n",
       "        vertical-align: top;\n",
       "    }\n",
       "\n",
       "    .dataframe thead th {\n",
       "        text-align: right;\n",
       "    }\n",
       "</style>\n",
       "<table border=\"1\" class=\"dataframe\">\n",
       "  <thead>\n",
       "    <tr style=\"text-align: right;\">\n",
       "      <th></th>\n",
       "      <th>year</th>\n",
       "      <th>country_code</th>\n",
       "      <th>country_name</th>\n",
       "      <th>region</th>\n",
       "      <th>income_group</th>\n",
       "      <th>currency_unit</th>\n",
       "      <th>gdp_usd</th>\n",
       "      <th>population</th>\n",
       "      <th>gdp_per_capita</th>\n",
       "      <th>inflation_rate</th>\n",
       "      <th>...</th>\n",
       "      <th>education_health_ratio</th>\n",
       "      <th>years_since_2000</th>\n",
       "      <th>years_since_century</th>\n",
       "      <th>is_pandemic_period</th>\n",
       "      <th>human_development_index</th>\n",
       "      <th>climate_vulnerability_index</th>\n",
       "      <th>digital_readiness_score</th>\n",
       "      <th>governance_quality_index</th>\n",
       "      <th>global_resilience_score</th>\n",
       "      <th>global_development_resilience_index</th>\n",
       "    </tr>\n",
       "  </thead>\n",
       "  <tbody>\n",
       "    <tr>\n",
       "      <th>0</th>\n",
       "      <td>2000</td>\n",
       "      <td>AFE</td>\n",
       "      <td>Africa Eastern and Southern</td>\n",
       "      <td>NaN</td>\n",
       "      <td>NaN</td>\n",
       "      <td>NaN</td>\n",
       "      <td>2.839525e+11</td>\n",
       "      <td>398113044.0</td>\n",
       "      <td>713.245921</td>\n",
       "      <td>8.601485</td>\n",
       "      <td>...</td>\n",
       "      <td>NaN</td>\n",
       "      <td>0</td>\n",
       "      <td>0</td>\n",
       "      <td>0</td>\n",
       "      <td>0.075174</td>\n",
       "      <td>0.252217</td>\n",
       "      <td>0.012104</td>\n",
       "      <td>0.5</td>\n",
       "      <td>0.134733</td>\n",
       "      <td>12.302733</td>\n",
       "    </tr>\n",
       "    <tr>\n",
       "      <th>1</th>\n",
       "      <td>2001</td>\n",
       "      <td>AFE</td>\n",
       "      <td>Africa Eastern and Southern</td>\n",
       "      <td>NaN</td>\n",
       "      <td>NaN</td>\n",
       "      <td>NaN</td>\n",
       "      <td>2.588432e+11</td>\n",
       "      <td>408522129.0</td>\n",
       "      <td>633.608789</td>\n",
       "      <td>5.840354</td>\n",
       "      <td>...</td>\n",
       "      <td>NaN</td>\n",
       "      <td>1</td>\n",
       "      <td>1</td>\n",
       "      <td>0</td>\n",
       "      <td>0.094327</td>\n",
       "      <td>0.238820</td>\n",
       "      <td>0.016189</td>\n",
       "      <td>0.5</td>\n",
       "      <td>0.067481</td>\n",
       "      <td>13.257762</td>\n",
       "    </tr>\n",
       "    <tr>\n",
       "      <th>2</th>\n",
       "      <td>2002</td>\n",
       "      <td>AFE</td>\n",
       "      <td>Africa Eastern and Southern</td>\n",
       "      <td>NaN</td>\n",
       "      <td>NaN</td>\n",
       "      <td>NaN</td>\n",
       "      <td>2.648950e+11</td>\n",
       "      <td>419223717.0</td>\n",
       "      <td>631.870340</td>\n",
       "      <td>8.763752</td>\n",
       "      <td>...</td>\n",
       "      <td>NaN</td>\n",
       "      <td>2</td>\n",
       "      <td>2</td>\n",
       "      <td>0</td>\n",
       "      <td>0.114721</td>\n",
       "      <td>0.241795</td>\n",
       "      <td>0.020744</td>\n",
       "      <td>0.5</td>\n",
       "      <td>0.066218</td>\n",
       "      <td>13.962528</td>\n",
       "    </tr>\n",
       "    <tr>\n",
       "      <th>3</th>\n",
       "      <td>2003</td>\n",
       "      <td>AFE</td>\n",
       "      <td>Africa Eastern and Southern</td>\n",
       "      <td>NaN</td>\n",
       "      <td>NaN</td>\n",
       "      <td>NaN</td>\n",
       "      <td>3.526921e+11</td>\n",
       "      <td>430246635.0</td>\n",
       "      <td>819.743981</td>\n",
       "      <td>7.449700</td>\n",
       "      <td>...</td>\n",
       "      <td>NaN</td>\n",
       "      <td>3</td>\n",
       "      <td>3</td>\n",
       "      <td>0</td>\n",
       "      <td>0.135402</td>\n",
       "      <td>0.243486</td>\n",
       "      <td>0.027147</td>\n",
       "      <td>0.5</td>\n",
       "      <td>0.146931</td>\n",
       "      <td>15.163578</td>\n",
       "    </tr>\n",
       "    <tr>\n",
       "      <th>4</th>\n",
       "      <td>2004</td>\n",
       "      <td>AFE</td>\n",
       "      <td>Africa Eastern and Southern</td>\n",
       "      <td>NaN</td>\n",
       "      <td>NaN</td>\n",
       "      <td>NaN</td>\n",
       "      <td>4.388756e+11</td>\n",
       "      <td>441630149.0</td>\n",
       "      <td>993.762711</td>\n",
       "      <td>5.023421</td>\n",
       "      <td>...</td>\n",
       "      <td>NaN</td>\n",
       "      <td>4</td>\n",
       "      <td>4</td>\n",
       "      <td>0</td>\n",
       "      <td>0.155819</td>\n",
       "      <td>0.247210</td>\n",
       "      <td>0.035082</td>\n",
       "      <td>0.5</td>\n",
       "      <td>0.191834</td>\n",
       "      <td>16.111022</td>\n",
       "    </tr>\n",
       "  </tbody>\n",
       "</table>\n",
       "<p>5 rows × 47 columns</p>\n",
       "</div>"
      ],
      "text/plain": [
       "   year country_code                 country_name region income_group  \\\n",
       "0  2000          AFE  Africa Eastern and Southern    NaN          NaN   \n",
       "1  2001          AFE  Africa Eastern and Southern    NaN          NaN   \n",
       "2  2002          AFE  Africa Eastern and Southern    NaN          NaN   \n",
       "3  2003          AFE  Africa Eastern and Southern    NaN          NaN   \n",
       "4  2004          AFE  Africa Eastern and Southern    NaN          NaN   \n",
       "\n",
       "  currency_unit       gdp_usd   population  gdp_per_capita  inflation_rate  \\\n",
       "0           NaN  2.839525e+11  398113044.0      713.245921        8.601485   \n",
       "1           NaN  2.588432e+11  408522129.0      633.608789        5.840354   \n",
       "2           NaN  2.648950e+11  419223717.0      631.870340        8.763752   \n",
       "3           NaN  3.526921e+11  430246635.0      819.743981        7.449700   \n",
       "4           NaN  4.388756e+11  441630149.0      993.762711        5.023421   \n",
       "\n",
       "   ...  education_health_ratio  years_since_2000  years_since_century  \\\n",
       "0  ...                     NaN                 0                    0   \n",
       "1  ...                     NaN                 1                    1   \n",
       "2  ...                     NaN                 2                    2   \n",
       "3  ...                     NaN                 3                    3   \n",
       "4  ...                     NaN                 4                    4   \n",
       "\n",
       "   is_pandemic_period  human_development_index  climate_vulnerability_index  \\\n",
       "0                   0                 0.075174                     0.252217   \n",
       "1                   0                 0.094327                     0.238820   \n",
       "2                   0                 0.114721                     0.241795   \n",
       "3                   0                 0.135402                     0.243486   \n",
       "4                   0                 0.155819                     0.247210   \n",
       "\n",
       "   digital_readiness_score  governance_quality_index  global_resilience_score  \\\n",
       "0                 0.012104                       0.5                 0.134733   \n",
       "1                 0.016189                       0.5                 0.067481   \n",
       "2                 0.020744                       0.5                 0.066218   \n",
       "3                 0.027147                       0.5                 0.146931   \n",
       "4                 0.035082                       0.5                 0.191834   \n",
       "\n",
       "   global_development_resilience_index  \n",
       "0                            12.302733  \n",
       "1                            13.257762  \n",
       "2                            13.962528  \n",
       "3                            15.163578  \n",
       "4                            16.111022  \n",
       "\n",
       "[5 rows x 47 columns]"
      ]
     },
     "execution_count": 3,
     "metadata": {},
     "output_type": "execute_result"
    }
   ],
   "source": [
    "df.head()"
   ]
  },
  {
   "cell_type": "code",
   "execution_count": 4,
   "id": "70c9d70c-9cef-4408-8ca4-3fedc23a1aba",
   "metadata": {},
   "outputs": [
    {
     "name": "stdout",
     "output_type": "stream",
     "text": [
      "Original dataframe shape (5556, 47)\n"
     ]
    }
   ],
   "source": [
    "print(\"Original dataframe shape\",df.shape)"
   ]
  },
  {
   "cell_type": "code",
   "execution_count": 5,
   "id": "0faa3805-4c82-4933-a7dc-b0bed8cd352a",
   "metadata": {},
   "outputs": [
    {
     "name": "stdout",
     "output_type": "stream",
     "text": [
      "Data types:\n",
      " year                                     int64\n",
      "country_code                            object\n",
      "country_name                            object\n",
      "region                                  object\n",
      "income_group                            object\n",
      "currency_unit                           object\n",
      "gdp_usd                                float64\n",
      "population                             float64\n",
      "gdp_per_capita                         float64\n",
      "inflation_rate                         float64\n",
      "unemployment_rate                      float64\n",
      "fdi_pct_gdp                            float64\n",
      "co2_emissions_kt                       float64\n",
      "energy_use_per_capita                  float64\n",
      "renewable_energy_pct                   float64\n",
      "forest_area_pct                        float64\n",
      "electricity_access_pct                 float64\n",
      "life_expectancy                        float64\n",
      "child_mortality                        float64\n",
      "school_enrollment_secondary            float64\n",
      "health_expenditure_pct_gdp             float64\n",
      "hospital_beds_per_1000                 float64\n",
      "physicians_per_1000                    float64\n",
      "internet_usage_pct                     float64\n",
      "mobile_subscriptions_per_100           float64\n",
      "calculated_gdp_per_capita              float64\n",
      "real_economic_growth_indicator         float64\n",
      "econ_opportunity_index                 float64\n",
      "co2_emissions_per_capita_tons          float64\n",
      "co2_intensity_per_million_gdp          float64\n",
      "green_transition_score                 float64\n",
      "ecological_preservation_index          float64\n",
      "renewable_energy_efficiency            float64\n",
      "human_development_composite            float64\n",
      "healthcare_capacity_index              float64\n",
      "digital_connectivity_index             float64\n",
      "health_development_ratio               float64\n",
      "education_health_ratio                 float64\n",
      "years_since_2000                         int64\n",
      "years_since_century                      int64\n",
      "is_pandemic_period                       int64\n",
      "human_development_index                float64\n",
      "climate_vulnerability_index            float64\n",
      "digital_readiness_score                float64\n",
      "governance_quality_index               float64\n",
      "global_resilience_score                float64\n",
      "global_development_resilience_index    float64\n",
      "dtype: object\n"
     ]
    }
   ],
   "source": [
    "print(\"Data types:\\n\", df.dtypes)"
   ]
  },
  {
   "cell_type": "code",
   "execution_count": 6,
   "id": "fa1d2ceb-a89f-404c-a1a0-214720690f32",
   "metadata": {},
   "outputs": [
    {
     "data": {
      "text/plain": [
       "year                                      0\n",
       "country_code                              0\n",
       "country_name                              0\n",
       "region                                 1008\n",
       "income_group                           1029\n",
       "currency_unit                          1008\n",
       "gdp_usd                                 224\n",
       "population                                0\n",
       "gdp_per_capita                          224\n",
       "inflation_rate                          810\n",
       "unemployment_rate                       630\n",
       "fdi_pct_gdp                             545\n",
       "co2_emissions_kt                       1022\n",
       "energy_use_per_capita                  2621\n",
       "renewable_energy_pct                    748\n",
       "forest_area_pct                         113\n",
       "electricity_access_pct                  401\n",
       "life_expectancy                         600\n",
       "child_mortality                         504\n",
       "school_enrollment_secondary            1800\n",
       "health_expenditure_pct_gdp              870\n",
       "hospital_beds_per_1000                 2873\n",
       "physicians_per_1000                    3285\n",
       "internet_usage_pct                      712\n",
       "mobile_subscriptions_per_100            384\n",
       "calculated_gdp_per_capita               224\n",
       "real_economic_growth_indicator          839\n",
       "econ_opportunity_index                  729\n",
       "co2_emissions_per_capita_tons          1022\n",
       "co2_intensity_per_million_gdp          1082\n",
       "green_transition_score                  748\n",
       "ecological_preservation_index           113\n",
       "renewable_energy_efficiency            2621\n",
       "human_development_composite             600\n",
       "healthcare_capacity_index               870\n",
       "digital_connectivity_index                0\n",
       "health_development_ratio                918\n",
       "education_health_ratio                 1937\n",
       "years_since_2000                          0\n",
       "years_since_century                       0\n",
       "is_pandemic_period                        0\n",
       "human_development_index                 600\n",
       "climate_vulnerability_index               0\n",
       "digital_readiness_score                   0\n",
       "governance_quality_index                  0\n",
       "global_resilience_score                 725\n",
       "global_development_resilience_index       0\n",
       "dtype: int64"
      ]
     },
     "execution_count": 6,
     "metadata": {},
     "output_type": "execute_result"
    }
   ],
   "source": [
    "df.isnull().sum()"
   ]
  },
  {
   "cell_type": "code",
   "execution_count": 7,
   "id": "fcd4f372-638e-4873-812d-53b333f0dc82",
   "metadata": {},
   "outputs": [
    {
     "name": "stdout",
     "output_type": "stream",
     "text": [
      "Country Codes unique:\n",
      "['AFE' 'AFW' 'ARB' 'CEB' 'CSS' 'EAP' 'EAR' 'EAS' 'ECA' 'ECS' 'EMU' 'EUU'\n",
      " 'FCS' 'HIC' 'HPC' 'IBD' 'IBT' 'IDA' 'IDB' 'IDX' 'LAC' 'LCN' 'LDC' 'LIC'\n",
      " 'LMC' 'LMY' 'LTE' 'MEA' 'MIC' 'MNA' 'NAC' 'OED' 'OSS' 'PRE' 'PSS' 'PST'\n",
      " 'SAS' 'SSA' 'SSF' 'SST' 'TEA' 'TEC' 'TLA' 'TMN' 'TSA' 'TSS' 'UMC' 'WLD'\n",
      " 'ASM' 'AUS' 'BRN' 'CHN' 'FJI' 'FSM' 'GUM' 'HKG' 'IDN' 'JPN' 'KHM' 'KIR'\n",
      " 'KOR' 'LAO' 'MAC' 'MHL' 'MMR' 'MNG' 'MNP' 'MYS' 'NCL' 'NRU' 'NZL' 'PHL'\n",
      " 'PLW' 'PNG' 'PRK' 'PYF' 'SGP' 'SLB' 'THA' 'TLS' 'TON' 'TUV' 'VNM' 'VUT'\n",
      " 'WSM' 'ALB' 'AND' 'ARM' 'AUT' 'AZE' 'BEL' 'BGR' 'BIH' 'BLR' 'CHE' 'CHI'\n",
      " 'CYP' 'CZE' 'DEU' 'DNK' 'ESP' 'EST' 'FIN' 'FRA' 'FRO' 'GBR' 'GEO' 'GIB'\n",
      " 'GRC' 'GRL' 'HRV' 'HUN' 'IMN' 'IRL' 'ISL' 'ITA' 'KAZ' 'KGZ' 'LIE' 'LTU'\n",
      " 'LUX' 'LVA' 'MCO' 'MDA' 'MKD' 'MNE' 'NLD' 'NOR' 'POL' 'PRT' 'ROU' 'RUS'\n",
      " 'SMR' 'SRB' 'SVK' 'SVN' 'SWE' 'TJK' 'TKM' 'TUR' 'UKR' 'UZB' 'XKX' 'ABW'\n",
      " 'ARG' 'ATG' 'BHS' 'BLZ' 'BOL' 'BRA' 'BRB' 'CHL' 'COL' 'CRI' 'CUB' 'CUW'\n",
      " 'CYM' 'DMA' 'DOM' 'ECU' 'GRD' 'GTM' 'GUY' 'HND' 'HTI' 'JAM' 'KNA' 'LCA'\n",
      " 'MAF' 'MEX' 'NIC' 'PAN' 'PER' 'PRI' 'PRY' 'SLV' 'SUR' 'SXM' 'TCA' 'TTO'\n",
      " 'URY' 'VCT' 'VEN' 'VGB' 'VIR' 'ARE' 'BHR' 'DJI' 'DZA' 'EGY' 'IRN' 'IRQ'\n",
      " 'ISR' 'JOR' 'KWT' 'LBN' 'LBY' 'MAR' 'MLT' 'OMN' 'PSE' 'QAT' 'SAU' 'SYR'\n",
      " 'TUN' 'YEM' 'BMU' 'CAN' 'USA' 'AFG' 'BGD' 'BTN' 'IND' 'LKA' 'MDV' 'NPL'\n",
      " 'PAK' 'AGO' 'BDI' 'BEN' 'BFA' 'BWA' 'CAF' 'CIV' 'CMR' 'COD' 'COG' 'COM'\n",
      " 'CPV' 'ERI' 'ETH' 'GAB' 'GHA' 'GIN' 'GMB' 'GNB' 'GNQ' 'KEN' 'LBR' 'LSO'\n",
      " 'MDG' 'MLI' 'MOZ' 'MRT' 'MUS' 'MWI' 'NAM' 'NER' 'NGA' 'RWA' 'SDN' 'SEN'\n",
      " 'SLE' 'SOM' 'SSD' 'STP' 'SWZ' 'SYC' 'TCD' 'TGO' 'TZA' 'UGA' 'ZAF' 'ZMB'\n",
      " 'ZWE']\n",
      "\n",
      "Country Names unique:\n",
      "['Africa Eastern and Southern' 'Africa Western and Central' 'Arab World'\n",
      " 'Central Europe and the Baltics' 'Caribbean small states'\n",
      " 'East Asia & Pacific (excluding high income)'\n",
      " 'Early-demographic dividend' 'East Asia & Pacific'\n",
      " 'Europe & Central Asia (excluding high income)' 'Europe & Central Asia'\n",
      " 'Euro area' 'European Union' 'Fragile and conflict affected situations'\n",
      " 'High income' 'Heavily indebted poor countries (HIPC)' 'IBRD only'\n",
      " 'IDA & IBRD total' 'IDA total' 'IDA blend' 'IDA only'\n",
      " 'Latin America & Caribbean (excluding high income)'\n",
      " 'Latin America & Caribbean'\n",
      " 'Least developed countries: UN classification' 'Low income'\n",
      " 'Lower middle income' 'Low & middle income' 'Late-demographic dividend'\n",
      " 'Middle East & North Africa' 'Middle income'\n",
      " 'Middle East & North Africa (excluding high income)' 'North America'\n",
      " 'OECD members' 'Other small states' 'Pre-demographic dividend'\n",
      " 'Pacific island small states' 'Post-demographic dividend' 'South Asia'\n",
      " 'Sub-Saharan Africa (excluding high income)' 'Sub-Saharan Africa'\n",
      " 'Small states' 'East Asia & Pacific (IDA & IBRD)'\n",
      " 'Europe & Central Asia (IDA & IBRD)'\n",
      " 'Latin America & Caribbean (IDA & IBRD)'\n",
      " 'Middle East & North Africa (IDA & IBRD)' 'South Asia (IDA & IBRD)'\n",
      " 'Sub-Saharan Africa (IDA & IBRD)' 'Upper middle income' 'World'\n",
      " 'American Samoa' 'Australia' 'Brunei' 'China' 'Fiji' 'Micronesia' 'Guam'\n",
      " 'Hong Kong SAR, China' 'Indonesia' 'Japan' 'Cambodia' 'Kiribati' 'Korea'\n",
      " 'Lao PDR' 'Macao SAR, China' 'Marshall Islands' 'Myanmar' 'Mongolia'\n",
      " 'Northern Mariana Islands' 'Malaysia' 'New Caledonia' 'Nauru'\n",
      " 'New Zealand' 'Philippines' 'Palau' 'Papua New Guinea'\n",
      " \"Dem. People's Rep. Korea\" 'French Polynesia' 'Singapore'\n",
      " 'Solomon Islands' 'Thailand' 'Timor-Leste' 'Tonga' 'Tuvalu' 'Vietnam'\n",
      " 'Vanuatu' 'Samoa' 'Albania' 'Andorra' 'Armenia' 'Austria' 'Azerbaijan'\n",
      " 'Belgium' 'Bulgaria' 'Bosnia and Herzegovina' 'Belarus' 'Switzerland'\n",
      " 'Channel Islands' 'Cyprus' 'Czech Republic' 'Germany' 'Denmark' 'Spain'\n",
      " 'Estonia' 'Finland' 'France' 'Faroe Islands' 'United Kingdom' 'Georgia'\n",
      " 'Gibraltar' 'Greece' 'Greenland' 'Croatia' 'Hungary' 'Isle of Man'\n",
      " 'Ireland' 'Iceland' 'Italy' 'Kazakhstan' 'Kyrgyz Republic'\n",
      " 'Liechtenstein' 'Lithuania' 'Luxembourg' 'Latvia' 'Monaco' 'Moldova'\n",
      " 'North Macedonia' 'Montenegro' 'Netherlands' 'Norway' 'Poland' 'Portugal'\n",
      " 'Romania' 'Russia' 'San Marino' 'Serbia' 'Slovak Republic' 'Slovenia'\n",
      " 'Sweden' 'Tajikistan' 'Turkmenistan' 'Türkiye' 'Ukraine' 'Uzbekistan'\n",
      " 'Kosovo' 'Aruba' 'Argentina' 'Antigua and Barbuda' 'The Bahamas' 'Belize'\n",
      " 'Bolivia' 'Brazil' 'Barbados' 'Chile' 'Colombia' 'Costa Rica' 'Cuba'\n",
      " 'Curaçao' 'Cayman Islands' 'Dominica' 'Dominican Republic' 'Ecuador'\n",
      " 'Grenada' 'Guatemala' 'Guyana' 'Honduras' 'Haiti' 'Jamaica'\n",
      " 'St. Kitts and Nevis' 'St. Lucia' 'St. Martin (French part)' 'Mexico'\n",
      " 'Nicaragua' 'Panama' 'Peru' 'Puerto Rico' 'Paraguay' 'El Salvador'\n",
      " 'Suriname' 'Sint Maarten (Dutch part)' 'Turks and Caicos Islands'\n",
      " 'Trinidad and Tobago' 'Uruguay' 'St. Vincent and the Grenadines'\n",
      " 'Venezuela' 'British Virgin Islands' 'Virgin Islands'\n",
      " 'United Arab Emirates' 'Bahrain' 'Djibouti' 'Algeria' 'Egypt' 'Iran'\n",
      " 'Iraq' 'Israel' 'Jordan' 'Kuwait' 'Lebanon' 'Libya' 'Morocco' 'Malta'\n",
      " 'Oman' 'West Bank and Gaza' 'Qatar' 'Saudi Arabia' 'Syrian Arab Republic'\n",
      " 'Tunisia' 'Yemen' 'Bermuda' 'Canada' 'United States' 'Afghanistan'\n",
      " 'Bangladesh' 'Bhutan' 'India' 'Sri Lanka' 'Maldives' 'Nepal' 'Pakistan'\n",
      " 'Angola' 'Burundi' 'Benin' 'Burkina Faso' 'Botswana'\n",
      " 'Central African Republic' \"Côte d'Ivoire\" 'Cameroon' 'Dem. Rep. Congo'\n",
      " 'Congo' 'Comoros' 'Cabo Verde' 'Eritrea' 'Ethiopia' 'Gabon' 'Ghana'\n",
      " 'Guinea' 'The Gambia' 'Guinea-Bissau' 'Equatorial Guinea' 'Kenya'\n",
      " 'Liberia' 'Lesotho' 'Madagascar' 'Mali' 'Mozambique' 'Mauritania'\n",
      " 'Mauritius' 'Malawi' 'Namibia' 'Niger' 'Nigeria' 'Rwanda' 'Sudan'\n",
      " 'Senegal' 'Sierra Leone' 'Somalia' 'South Sudan' 'São Tomé and Principe'\n",
      " 'Eswatini' 'Seychelles' 'Chad' 'Togo' 'Tanzania' 'Uganda' 'South Africa'\n",
      " 'Zambia' 'Zimbabwe']\n"
     ]
    }
   ],
   "source": [
    "# Check for values in our principal columns:\n",
    "\n",
    "print(\"Country Codes unique:\")\n",
    "print(df['country_code'].unique())\n",
    "\n",
    "print(\"\\nCountry Names unique:\")\n",
    "print(df['country_name'].unique())"
   ]
  },
  {
   "cell_type": "code",
   "execution_count": 8,
   "id": "bd1166d2-c65b-4093-b7f4-630f7c22bf0c",
   "metadata": {},
   "outputs": [],
   "source": [
    "country_cleanup_dict = {\n",
    "    # Grupos de países, regiones geográficas, ingresos, demográficos, etc.\n",
    "    'Africa Eastern and Southern': None,\n",
    "    'Africa Western and Central': None,\n",
    "    'Arab World': None,\n",
    "    'Central Europe and the Baltics': None,\n",
    "    'Caribbean small states': None,\n",
    "    'East Asia & Pacific (excluding high income)': None,\n",
    "    'East Asia & Pacific (IDA & IBRD)': None,\n",
    "    'East Asia & Pacific': None,\n",
    "    'Europe & Central Asia (excluding high income)': None,\n",
    "    'Europe & Central Asia (IDA & IBRD)': None,\n",
    "    'Europe & Central Asia': None,\n",
    "    'Euro area': None,\n",
    "    'European Union': None,\n",
    "    'Fragile and conflict affected situations': None,\n",
    "    'High income': None,\n",
    "    'Heavily indebted poor countries (HIPC)': None,\n",
    "    'IBRD only': None,\n",
    "    'IDA & IBRD total': None,\n",
    "    'IDA total': None,\n",
    "    'IDA blend': None,\n",
    "    'IDA only': None,\n",
    "    'Latin America & Caribbean (excluding high income)': None,\n",
    "    'Latin America & Caribbean (IDA & IBRD)': None,\n",
    "    'Latin America & Caribbean': None,\n",
    "    'Least developed countries: UN classification': None,\n",
    "    'Low income': None,\n",
    "    'Lower middle income': None,\n",
    "    'Low & middle income': None,\n",
    "    'Late-demographic dividend': None,\n",
    "    'Middle East & North Africa': None,\n",
    "    'Middle East & North Africa (IDA & IBRD)': None,\n",
    "    'Middle East & North Africa (excluding high income)': None,\n",
    "    'Middle income': None,\n",
    "    'North America': None,\n",
    "    'OECD members': None,\n",
    "    'Other small states': None,\n",
    "    'Pacific island small states': None,\n",
    "    'Post-demographic dividend': None,\n",
    "    'Pre-demographic dividend': None,\n",
    "    'Small states': None,\n",
    "    'South Asia': None,\n",
    "    'South Asia (IDA & IBRD)': None,\n",
    "    'Sub-Saharan Africa (excluding high income)': None,\n",
    "    'Sub-Saharan Africa (IDA & IBRD)': None,\n",
    "    'Sub-Saharan Africa': None,\n",
    "    'Upper middle income': None,\n",
    "    'World': None,\n",
    "    'Early-demographic dividend': None\n",
    "}"
   ]
  },
  {
   "cell_type": "code",
   "execution_count": 9,
   "id": "2e29b4ca-41ad-495e-b19d-71ed146c3841",
   "metadata": {},
   "outputs": [],
   "source": [
    "# Reemplazar los nombres no deseados por None\n",
    "df['country_name_clean'] = df['country_name'].replace(country_cleanup_dict)\n",
    "\n",
    "# Eliminar filas con None en 'country_name_clean'\n",
    "df_clean = df[df['country_name_clean'].notna()]"
   ]
  },
  {
   "cell_type": "code",
   "execution_count": 10,
   "id": "2d5b95a2-ec72-4590-9fcc-98e29a349f86",
   "metadata": {},
   "outputs": [
    {
     "name": "stdout",
     "output_type": "stream",
     "text": [
      "Países válidos después de limpiar:\n",
      "['Afghanistan', 'Albania', 'Algeria', 'American Samoa', 'Andorra', 'Angola', 'Antigua and Barbuda', 'Argentina', 'Armenia', 'Aruba', 'Australia', 'Austria', 'Azerbaijan', 'Bahrain', 'Bangladesh', 'Barbados', 'Belarus', 'Belgium', 'Belize', 'Benin', 'Bermuda', 'Bhutan', 'Bolivia', 'Bosnia and Herzegovina', 'Botswana', 'Brazil', 'British Virgin Islands', 'Brunei', 'Bulgaria', 'Burkina Faso', 'Burundi', 'Cabo Verde', 'Cambodia', 'Cameroon', 'Canada', 'Cayman Islands', 'Central African Republic', 'Chad', 'Channel Islands', 'Chile', 'China', 'Colombia', 'Comoros', 'Congo', 'Costa Rica', 'Croatia', 'Cuba', 'Curaçao', 'Cyprus', 'Czech Republic', \"Côte d'Ivoire\", \"Dem. People's Rep. Korea\", 'Dem. Rep. Congo', 'Denmark', 'Djibouti', 'Dominica', 'Dominican Republic', 'Ecuador', 'Egypt', 'El Salvador', 'Equatorial Guinea', 'Eritrea', 'Estonia', 'Eswatini', 'Ethiopia', 'Faroe Islands', 'Fiji', 'Finland', 'France', 'French Polynesia', 'Gabon', 'Georgia', 'Germany', 'Ghana', 'Gibraltar', 'Greece', 'Greenland', 'Grenada', 'Guam', 'Guatemala', 'Guinea', 'Guinea-Bissau', 'Guyana', 'Haiti', 'Honduras', 'Hong Kong SAR, China', 'Hungary', 'Iceland', 'India', 'Indonesia', 'Iran', 'Iraq', 'Ireland', 'Isle of Man', 'Israel', 'Italy', 'Jamaica', 'Japan', 'Jordan', 'Kazakhstan', 'Kenya', 'Kiribati', 'Korea', 'Kosovo', 'Kuwait', 'Kyrgyz Republic', 'Lao PDR', 'Latvia', 'Lebanon', 'Lesotho', 'Liberia', 'Libya', 'Liechtenstein', 'Lithuania', 'Luxembourg', 'Macao SAR, China', 'Madagascar', 'Malawi', 'Malaysia', 'Maldives', 'Mali', 'Malta', 'Marshall Islands', 'Mauritania', 'Mauritius', 'Mexico', 'Micronesia', 'Moldova', 'Monaco', 'Mongolia', 'Montenegro', 'Morocco', 'Mozambique', 'Myanmar', 'Namibia', 'Nauru', 'Nepal', 'Netherlands', 'New Caledonia', 'New Zealand', 'Nicaragua', 'Niger', 'Nigeria', 'North Macedonia', 'Northern Mariana Islands', 'Norway', 'Oman', 'Pakistan', 'Palau', 'Panama', 'Papua New Guinea', 'Paraguay', 'Peru', 'Philippines', 'Poland', 'Portugal', 'Puerto Rico', 'Qatar', 'Romania', 'Russia', 'Rwanda', 'Samoa', 'San Marino', 'Saudi Arabia', 'Senegal', 'Serbia', 'Seychelles', 'Sierra Leone', 'Singapore', 'Sint Maarten (Dutch part)', 'Slovak Republic', 'Slovenia', 'Solomon Islands', 'Somalia', 'South Africa', 'South Sudan', 'Spain', 'Sri Lanka', 'St. Kitts and Nevis', 'St. Lucia', 'St. Martin (French part)', 'St. Vincent and the Grenadines', 'Sudan', 'Suriname', 'Sweden', 'Switzerland', 'Syrian Arab Republic', 'São Tomé and Principe', 'Tajikistan', 'Tanzania', 'Thailand', 'The Bahamas', 'The Gambia', 'Timor-Leste', 'Togo', 'Tonga', 'Trinidad and Tobago', 'Tunisia', 'Turkmenistan', 'Turks and Caicos Islands', 'Tuvalu', 'Türkiye', 'Uganda', 'Ukraine', 'United Arab Emirates', 'United Kingdom', 'United States', 'Uruguay', 'Uzbekistan', 'Vanuatu', 'Venezuela', 'Vietnam', 'Virgin Islands', 'West Bank and Gaza', 'Yemen', 'Zambia', 'Zimbabwe']\n"
     ]
    }
   ],
   "source": [
    "print(\"Países válidos después de limpiar:\")\n",
    "print(sorted(df_clean['country_name_clean'].unique()))"
   ]
  },
  {
   "cell_type": "code",
   "execution_count": 11,
   "id": "ad89cf50-303d-44a4-92ad-74f03f474805",
   "metadata": {},
   "outputs": [],
   "source": [
    "df_clean = df[df['country_name_clean'].notna()]"
   ]
  },
  {
   "cell_type": "code",
   "execution_count": 12,
   "id": "90944e28-f5ad-40b8-b398-01f716393918",
   "metadata": {},
   "outputs": [],
   "source": [
    "Key_columns = ['gdp_usd', 'population', 'gdp_per_capita']\n",
    "df_subset = df.dropna(subset=Key_columns)"
   ]
  },
  {
   "cell_type": "code",
   "execution_count": 13,
   "id": "b031add9-ec51-45b8-9488-4ea7d07cec2c",
   "metadata": {},
   "outputs": [
    {
     "data": {
      "text/plain": [
       "(5332, 48)"
      ]
     },
     "execution_count": 13,
     "metadata": {},
     "output_type": "execute_result"
    }
   ],
   "source": [
    "df_subset.shape"
   ]
  },
  {
   "cell_type": "code",
   "execution_count": 14,
   "id": "396c3777-9038-4485-94ab-7afa0ed9d1e3",
   "metadata": {},
   "outputs": [
    {
     "name": "stdout",
     "output_type": "stream",
     "text": [
      "Final Shape: (5332, 48)\n"
     ]
    }
   ],
   "source": [
    "Key_columns = ['gdp_usd', 'population', 'gdp_per_capita']\n",
    "df_final = df_subset.dropna(subset=Key_columns)\n",
    "print(\"Final Shape:\", df_final.shape)"
   ]
  },
  {
   "cell_type": "code",
   "execution_count": 15,
   "id": "51781cb6-30fb-4f0c-9257-e44d4082b38e",
   "metadata": {},
   "outputs": [
    {
     "data": {
      "text/plain": [
       "physicians_per_1000            3073\n",
       "hospital_beds_per_1000         2664\n",
       "energy_use_per_capita          2446\n",
       "renewable_energy_efficiency    2446\n",
       "education_health_ratio         1730\n",
       "school_enrollment_secondary    1624\n",
       "income_group                   1023\n",
       "currency_unit                  1008\n",
       "country_name_clean             1008\n",
       "region                         1008\n",
       "dtype: int64"
      ]
     },
     "execution_count": 15,
     "metadata": {},
     "output_type": "execute_result"
    }
   ],
   "source": [
    "df_final.isnull().sum().sort_values(ascending=False).head(10)"
   ]
  },
  {
   "cell_type": "code",
   "execution_count": 16,
   "id": "1ad72a7c-fa9e-4b3e-b2ce-d85cfb49292d",
   "metadata": {},
   "outputs": [
    {
     "data": {
      "text/plain": [
       "np.int64(0)"
      ]
     },
     "execution_count": 16,
     "metadata": {},
     "output_type": "execute_result"
    }
   ],
   "source": [
    "df.duplicated(subset=['year', 'country_code']).sum()"
   ]
  },
  {
   "cell_type": "code",
   "execution_count": 17,
   "id": "39899e95-0370-45b9-aaa8-2cbde9b9138b",
   "metadata": {},
   "outputs": [],
   "source": [
    "# CREATE TABLES RELATED\n",
    "\n",
    "\n",
    "# Table: Economic Indicators\n",
    "economic_indicators = df_clean[[\n",
    "    'year', 'country_code', 'gdp_usd', 'gdp_per_capita',\n",
    "    'fdi_pct_gdp', 'inflation_rate', 'unemployment_rate',\n",
    "    'real_economic_growth_indicator'\n",
    "]]\n",
    "\n",
    "# Table: Environmental Indicators\n",
    "environmental_indicators = df_clean[[\n",
    "    'year', 'country_code',\n",
    "    'co2_emissions_kt', 'co2_emissions_per_capita_tons',\n",
    "    'renewable_energy_pct', 'forest_area_pct',\n",
    "    'green_transition_score', 'co2_intensity_per_million_gdp'\n",
    "]]\n",
    "\n",
    "# Table: Technology and Connectivity\n",
    "technology_connectivity = df_clean[[\n",
    "    'year', 'country_code',\n",
    "    'internet_usage_pct', 'mobile_subscriptions_per_100',\n",
    "    'digital_readiness_score', 'digital_connectivity_index'\n",
    "]]\n",
    "\n",
    "# Table: Health and Education\n",
    "health_education = df_clean[[\n",
    "    'year', 'country_code',\n",
    "    'life_expectancy', 'child_mortality',\n",
    "    'school_enrollment_secondary', 'healthcare_capacity_index',\n",
    "    'health_development_ratio'\n",
    "]]\n",
    "\n",
    "# Table: Governance and Resilience\n",
    "governance_resilience = df_clean[[\n",
    "    'year', 'country_code',\n",
    "    'governance_quality_index', 'global_resilience_score',\n",
    "    'human_development_composite', 'ecological_preservation_index'\n",
    "]]"
   ]
  },
  {
   "cell_type": "code",
   "execution_count": 18,
   "id": "4d3dfc9f-8443-47ad-a1c9-f1e4d79447dc",
   "metadata": {},
   "outputs": [],
   "source": [
    "# Export each table to CSV\n",
    "economic_indicators.to_csv(\"economic_indicators.csv\", index=False)\n",
    "environmental_indicators.to_csv(\"environmental_indicators.csv\", index=False)\n",
    "technology_connectivity.to_csv(\"technology_connectivity.csv\", index=False)\n",
    "health_education.to_csv(\"health_education.csv\", index=False)\n",
    "governance_resilience.to_csv(\"governance_resilience.csv\", index=False)"
   ]
  },
  {
   "cell_type": "code",
   "execution_count": 19,
   "id": "5bbd3f42-e423-4861-a642-a7bd642b4dd0",
   "metadata": {},
   "outputs": [
    {
     "name": "stdout",
     "output_type": "stream",
     "text": [
      "0\n",
      "0\n",
      "0\n",
      "0\n",
      "0\n"
     ]
    }
   ],
   "source": [
    "# Relationship betweet tables.\n",
    "\n",
    "for df_tema in [economic_indicators, environmental_indicators, technology_connectivity,\n",
    "                health_education, governance_resilience]:\n",
    "    print(df_tema.duplicated(subset=['year', 'country_code']).sum())\n",
    "\n",
    "#This means have relationship from 1:1"
   ]
  },
  {
   "cell_type": "code",
   "execution_count": 20,
   "id": "33afcec0-fbdc-4d50-80a5-43f89516f520",
   "metadata": {},
   "outputs": [],
   "source": [
    "#Create countries table\n",
    "countries = df_clean[['country_code', 'country_name_clean', 'region', 'income_group', 'currency_unit']].drop_duplicates()\n",
    "countries = countries.rename(columns={'country_code': 'country_id'})\n",
    "countries.to_csv(\"countries.csv\", index=False)"
   ]
  },
  {
   "cell_type": "code",
   "execution_count": null,
   "id": "dabee360-d0de-4777-b3d2-9050b5d6d2f6",
   "metadata": {},
   "outputs": [],
   "source": []
  }
 ],
 "metadata": {
  "kernelspec": {
   "display_name": "new",
   "language": "python",
   "name": "new"
  },
  "language_info": {
   "codemirror_mode": {
    "name": "ipython",
    "version": 3
   },
   "file_extension": ".py",
   "mimetype": "text/x-python",
   "name": "python",
   "nbconvert_exporter": "python",
   "pygments_lexer": "ipython3",
   "version": "3.12.3"
  }
 },
 "nbformat": 4,
 "nbformat_minor": 5
}
